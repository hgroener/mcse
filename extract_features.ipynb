{
 "cells": [
  {
   "cell_type": "code",
   "execution_count": 1,
   "metadata": {},
   "outputs": [],
   "source": [
    "import pandas as pd\n",
    "import os"
   ]
  },
  {
   "cell_type": "code",
   "execution_count": 2,
   "metadata": {},
   "outputs": [],
   "source": [
    "import sys  \n",
    "sys.path.insert(0, 'src')\n",
    "from model import MCSE, BertForCL, RobertaForCL, ResNetVisnModel"
   ]
  },
  {
   "cell_type": "code",
   "execution_count": 3,
   "metadata": {},
   "outputs": [],
   "source": [
    "sys.path.insert(0, 'preprocess')\n",
    "from extract_visn_feature import ResnetFeatureExtractor"
   ]
  },
  {
   "cell_type": "code",
   "execution_count": 4,
   "metadata": {},
   "outputs": [
    {
     "data": {
      "text/html": [
       "<div>\n",
       "<style scoped>\n",
       "    .dataframe tbody tr th:only-of-type {\n",
       "        vertical-align: middle;\n",
       "    }\n",
       "\n",
       "    .dataframe tbody tr th {\n",
       "        vertical-align: top;\n",
       "    }\n",
       "\n",
       "    .dataframe thead th {\n",
       "        text-align: right;\n",
       "    }\n",
       "</style>\n",
       "<table border=\"1\" class=\"dataframe\">\n",
       "  <thead>\n",
       "    <tr style=\"text-align: right;\">\n",
       "      <th></th>\n",
       "      <th>article</th>\n",
       "      <th>text</th>\n",
       "      <th>sentence</th>\n",
       "      <th>start</th>\n",
       "      <th>end</th>\n",
       "      <th>local_ix</th>\n",
       "      <th>par_ix</th>\n",
       "      <th>ax</th>\n",
       "      <th>related_images</th>\n",
       "      <th>ref_no</th>\n",
       "      <th>tokens</th>\n",
       "      <th>aat_terms</th>\n",
       "      <th>all_terms</th>\n",
       "      <th>term_density</th>\n",
       "      <th>term_density_gen</th>\n",
       "    </tr>\n",
       "  </thead>\n",
       "  <tbody>\n",
       "    <tr>\n",
       "      <th>43</th>\n",
       "      <td>Exeter Cathedral</td>\n",
       "      <td>Exeter Cathedral, properly known as the Cathed...</td>\n",
       "      <td>Exeter Cathedral, properly known as the Cathed...</td>\n",
       "      <td>0</td>\n",
       "      <td>199</td>\n",
       "      <td>0</td>\n",
       "      <td>8</td>\n",
       "      <td>43</td>\n",
       "      <td>['File:Exeter_Cathedral_Nave,_Exeter,_UK_-_Dil...</td>\n",
       "      <td>3</td>\n",
       "      <td>['exeter', 'cathedral', ',', 'properly', 'know...</td>\n",
       "      <td>['cathedral', 'cathedral', 'church', 'cathedra...</td>\n",
       "      <td>['cathedral', 'cathedral', 'church', 'cathedra...</td>\n",
       "      <td>0.166667</td>\n",
       "      <td>0.166667</td>\n",
       "    </tr>\n",
       "    <tr>\n",
       "      <th>44</th>\n",
       "      <td>Exeter Cathedral</td>\n",
       "      <td>Exeter Cathedral, properly known as the Cathed...</td>\n",
       "      <td>The present building was complete by about 140...</td>\n",
       "      <td>200</td>\n",
       "      <td>613</td>\n",
       "      <td>0</td>\n",
       "      <td>8</td>\n",
       "      <td>44</td>\n",
       "      <td>['File:Exeter_Cathedral_Nave,_Exeter,_UK_-_Dil...</td>\n",
       "      <td>5</td>\n",
       "      <td>['the', 'present', 'building', 'wa', 'complete...</td>\n",
       "      <td>['building', 'set', 'misericords', 'clock', 's...</td>\n",
       "      <td>['building', 'set', 'misericords', 'clock', 's...</td>\n",
       "      <td>0.136986</td>\n",
       "      <td>0.136986</td>\n",
       "    </tr>\n",
       "    <tr>\n",
       "      <th>45</th>\n",
       "      <td>Exeter Cathedral</td>\n",
       "      <td>Exeter Cathedral, properly known as the Cathed...</td>\n",
       "      <td>A Saxon minster already existing within the to...</td>\n",
       "      <td>615</td>\n",
       "      <td>838</td>\n",
       "      <td>0</td>\n",
       "      <td>8</td>\n",
       "      <td>45</td>\n",
       "      <td>['File:Exeter_Cathedral_9578.jpg']</td>\n",
       "      <td>1</td>\n",
       "      <td>['a', 'saxon', 'minster', 'already', 'existing...</td>\n",
       "      <td>['minster', 'town', 'seat', 'service', 'door',...</td>\n",
       "      <td>['minster', 'town', 'seat', 'service', 'door',...</td>\n",
       "      <td>0.200000</td>\n",
       "      <td>0.200000</td>\n",
       "    </tr>\n",
       "    <tr>\n",
       "      <th>46</th>\n",
       "      <td>Exeter Cathedral</td>\n",
       "      <td>In 1107 William Warelwast was appointed to the...</td>\n",
       "      <td>In 1107 William Warelwast was appointed to the...</td>\n",
       "      <td>0</td>\n",
       "      <td>134</td>\n",
       "      <td>1</td>\n",
       "      <td>9</td>\n",
       "      <td>46</td>\n",
       "      <td>[]</td>\n",
       "      <td>0</td>\n",
       "      <td>['in', '1107', 'william', 'warelwast', 'wa', '...</td>\n",
       "      <td>['catalyst', 'building', 'cathedral']</td>\n",
       "      <td>['catalyst', 'building', 'cathedral']</td>\n",
       "      <td>0.111111</td>\n",
       "      <td>0.111111</td>\n",
       "    </tr>\n",
       "    <tr>\n",
       "      <th>47</th>\n",
       "      <td>Exeter Cathedral</td>\n",
       "      <td>In 1107 William Warelwast was appointed to the...</td>\n",
       "      <td>Its official foundation was in 1133, during Wa...</td>\n",
       "      <td>136</td>\n",
       "      <td>238</td>\n",
       "      <td>1</td>\n",
       "      <td>9</td>\n",
       "      <td>47</td>\n",
       "      <td>[]</td>\n",
       "      <td>0</td>\n",
       "      <td>['it', 'official', 'foundation', 'wa', 'in', '...</td>\n",
       "      <td>['foundation']</td>\n",
       "      <td>['foundation']</td>\n",
       "      <td>0.047619</td>\n",
       "      <td>0.047619</td>\n",
       "    </tr>\n",
       "    <tr>\n",
       "      <th>...</th>\n",
       "      <td>...</td>\n",
       "      <td>...</td>\n",
       "      <td>...</td>\n",
       "      <td>...</td>\n",
       "      <td>...</td>\n",
       "      <td>...</td>\n",
       "      <td>...</td>\n",
       "      <td>...</td>\n",
       "      <td>...</td>\n",
       "      <td>...</td>\n",
       "      <td>...</td>\n",
       "      <td>...</td>\n",
       "      <td>...</td>\n",
       "      <td>...</td>\n",
       "      <td>...</td>\n",
       "    </tr>\n",
       "    <tr>\n",
       "      <th>10433</th>\n",
       "      <td>Church of Our Lady, Bruges</td>\n",
       "      <td>The altarpiece of the large chapel in the sout...</td>\n",
       "      <td>This was due to a monetary disagreement that l...</td>\n",
       "      <td>866</td>\n",
       "      <td>1050</td>\n",
       "      <td>2</td>\n",
       "      <td>1899</td>\n",
       "      <td>10433</td>\n",
       "      <td>[]</td>\n",
       "      <td>0</td>\n",
       "      <td>['this', 'wa', 'due', 'to', 'a', 'monetary', '...</td>\n",
       "      <td>['led', 'statue', 'home']</td>\n",
       "      <td>['led', 'statue', 'home']</td>\n",
       "      <td>0.090909</td>\n",
       "      <td>0.090909</td>\n",
       "    </tr>\n",
       "    <tr>\n",
       "      <th>10434</th>\n",
       "      <td>Church of Our Lady, Bruges</td>\n",
       "      <td>The altarpiece of the large chapel in the sout...</td>\n",
       "      <td>The sculpture was a memorial to the Mouscron p...</td>\n",
       "      <td>1051</td>\n",
       "      <td>1329</td>\n",
       "      <td>2</td>\n",
       "      <td>1899</td>\n",
       "      <td>10434</td>\n",
       "      <td>[]</td>\n",
       "      <td>0</td>\n",
       "      <td>['the', 'sculpture', 'wa', 'a', 'memorial', 't...</td>\n",
       "      <td>['sculpture', 'memorial', 'tabernacle', 'sculp...</td>\n",
       "      <td>['sculpture', 'memorial', 'parent', 'tabernacl...</td>\n",
       "      <td>0.113208</td>\n",
       "      <td>0.132075</td>\n",
       "    </tr>\n",
       "    <tr>\n",
       "      <th>10435</th>\n",
       "      <td>Church of Our Lady, Bruges</td>\n",
       "      <td>The altarpiece of the large chapel in the sout...</td>\n",
       "      <td>While Michelangelo was alive, the Madonna was ...</td>\n",
       "      <td>1330</td>\n",
       "      <td>1420</td>\n",
       "      <td>2</td>\n",
       "      <td>1899</td>\n",
       "      <td>10435</td>\n",
       "      <td>[]</td>\n",
       "      <td>0</td>\n",
       "      <td>['while', 'michelangelo', 'wa', 'alive', ',', ...</td>\n",
       "      <td>['sculpture']</td>\n",
       "      <td>['sculpture']</td>\n",
       "      <td>0.055556</td>\n",
       "      <td>0.055556</td>\n",
       "    </tr>\n",
       "    <tr>\n",
       "      <th>10436</th>\n",
       "      <td>Church of Our Lady, Bruges</td>\n",
       "      <td>The altarpiece of the large chapel in the sout...</td>\n",
       "      <td>The sculpture was twice recovered after being ...</td>\n",
       "      <td>1421</td>\n",
       "      <td>1551</td>\n",
       "      <td>2</td>\n",
       "      <td>1899</td>\n",
       "      <td>10436</td>\n",
       "      <td>[]</td>\n",
       "      <td>0</td>\n",
       "      <td>['the', 'sculpture', 'wa', 'twice', 'recovered...</td>\n",
       "      <td>['sculpture']</td>\n",
       "      <td>['sculpture']</td>\n",
       "      <td>0.050000</td>\n",
       "      <td>0.050000</td>\n",
       "    </tr>\n",
       "    <tr>\n",
       "      <th>10437</th>\n",
       "      <td>Church of Our Lady, Bruges</td>\n",
       "      <td>The altarpiece of the large chapel in the sout...</td>\n",
       "      <td>Close to the Michelangelo statue important Bru...</td>\n",
       "      <td>1552</td>\n",
       "      <td>1752</td>\n",
       "      <td>2</td>\n",
       "      <td>1899</td>\n",
       "      <td>10437</td>\n",
       "      <td>[]</td>\n",
       "      <td>0</td>\n",
       "      <td>['close', 'to', 'the', 'michelangelo', 'statue...</td>\n",
       "      <td>['close', 'statue', 'tomb', 'side', 'statue']</td>\n",
       "      <td>['close', 'statue', 'husband', 'tomb', 'family...</td>\n",
       "      <td>0.138889</td>\n",
       "      <td>0.194444</td>\n",
       "    </tr>\n",
       "  </tbody>\n",
       "</table>\n",
       "<p>5066 rows × 15 columns</p>\n",
       "</div>"
      ],
      "text/plain": [
       "                          article  \\\n",
       "43               Exeter Cathedral   \n",
       "44               Exeter Cathedral   \n",
       "45               Exeter Cathedral   \n",
       "46               Exeter Cathedral   \n",
       "47               Exeter Cathedral   \n",
       "...                           ...   \n",
       "10433  Church of Our Lady, Bruges   \n",
       "10434  Church of Our Lady, Bruges   \n",
       "10435  Church of Our Lady, Bruges   \n",
       "10436  Church of Our Lady, Bruges   \n",
       "10437  Church of Our Lady, Bruges   \n",
       "\n",
       "                                                    text  \\\n",
       "43     Exeter Cathedral, properly known as the Cathed...   \n",
       "44     Exeter Cathedral, properly known as the Cathed...   \n",
       "45     Exeter Cathedral, properly known as the Cathed...   \n",
       "46     In 1107 William Warelwast was appointed to the...   \n",
       "47     In 1107 William Warelwast was appointed to the...   \n",
       "...                                                  ...   \n",
       "10433  The altarpiece of the large chapel in the sout...   \n",
       "10434  The altarpiece of the large chapel in the sout...   \n",
       "10435  The altarpiece of the large chapel in the sout...   \n",
       "10436  The altarpiece of the large chapel in the sout...   \n",
       "10437  The altarpiece of the large chapel in the sout...   \n",
       "\n",
       "                                                sentence  start   end  \\\n",
       "43     Exeter Cathedral, properly known as the Cathed...      0   199   \n",
       "44     The present building was complete by about 140...    200   613   \n",
       "45     A Saxon minster already existing within the to...    615   838   \n",
       "46     In 1107 William Warelwast was appointed to the...      0   134   \n",
       "47     Its official foundation was in 1133, during Wa...    136   238   \n",
       "...                                                  ...    ...   ...   \n",
       "10433  This was due to a monetary disagreement that l...    866  1050   \n",
       "10434  The sculpture was a memorial to the Mouscron p...   1051  1329   \n",
       "10435  While Michelangelo was alive, the Madonna was ...   1330  1420   \n",
       "10436  The sculpture was twice recovered after being ...   1421  1551   \n",
       "10437  Close to the Michelangelo statue important Bru...   1552  1752   \n",
       "\n",
       "       local_ix  par_ix     ax  \\\n",
       "43            0       8     43   \n",
       "44            0       8     44   \n",
       "45            0       8     45   \n",
       "46            1       9     46   \n",
       "47            1       9     47   \n",
       "...         ...     ...    ...   \n",
       "10433         2    1899  10433   \n",
       "10434         2    1899  10434   \n",
       "10435         2    1899  10435   \n",
       "10436         2    1899  10436   \n",
       "10437         2    1899  10437   \n",
       "\n",
       "                                          related_images  ref_no  \\\n",
       "43     ['File:Exeter_Cathedral_Nave,_Exeter,_UK_-_Dil...       3   \n",
       "44     ['File:Exeter_Cathedral_Nave,_Exeter,_UK_-_Dil...       5   \n",
       "45                    ['File:Exeter_Cathedral_9578.jpg']       1   \n",
       "46                                                    []       0   \n",
       "47                                                    []       0   \n",
       "...                                                  ...     ...   \n",
       "10433                                                 []       0   \n",
       "10434                                                 []       0   \n",
       "10435                                                 []       0   \n",
       "10436                                                 []       0   \n",
       "10437                                                 []       0   \n",
       "\n",
       "                                                  tokens  \\\n",
       "43     ['exeter', 'cathedral', ',', 'properly', 'know...   \n",
       "44     ['the', 'present', 'building', 'wa', 'complete...   \n",
       "45     ['a', 'saxon', 'minster', 'already', 'existing...   \n",
       "46     ['in', '1107', 'william', 'warelwast', 'wa', '...   \n",
       "47     ['it', 'official', 'foundation', 'wa', 'in', '...   \n",
       "...                                                  ...   \n",
       "10433  ['this', 'wa', 'due', 'to', 'a', 'monetary', '...   \n",
       "10434  ['the', 'sculpture', 'wa', 'a', 'memorial', 't...   \n",
       "10435  ['while', 'michelangelo', 'wa', 'alive', ',', ...   \n",
       "10436  ['the', 'sculpture', 'wa', 'twice', 'recovered...   \n",
       "10437  ['close', 'to', 'the', 'michelangelo', 'statue...   \n",
       "\n",
       "                                               aat_terms  \\\n",
       "43     ['cathedral', 'cathedral', 'church', 'cathedra...   \n",
       "44     ['building', 'set', 'misericords', 'clock', 's...   \n",
       "45     ['minster', 'town', 'seat', 'service', 'door',...   \n",
       "46                 ['catalyst', 'building', 'cathedral']   \n",
       "47                                        ['foundation']   \n",
       "...                                                  ...   \n",
       "10433                          ['led', 'statue', 'home']   \n",
       "10434  ['sculpture', 'memorial', 'tabernacle', 'sculp...   \n",
       "10435                                      ['sculpture']   \n",
       "10436                                      ['sculpture']   \n",
       "10437      ['close', 'statue', 'tomb', 'side', 'statue']   \n",
       "\n",
       "                                               all_terms  term_density  \\\n",
       "43     ['cathedral', 'cathedral', 'church', 'cathedra...      0.166667   \n",
       "44     ['building', 'set', 'misericords', 'clock', 's...      0.136986   \n",
       "45     ['minster', 'town', 'seat', 'service', 'door',...      0.200000   \n",
       "46                 ['catalyst', 'building', 'cathedral']      0.111111   \n",
       "47                                        ['foundation']      0.047619   \n",
       "...                                                  ...           ...   \n",
       "10433                          ['led', 'statue', 'home']      0.090909   \n",
       "10434  ['sculpture', 'memorial', 'parent', 'tabernacl...      0.113208   \n",
       "10435                                      ['sculpture']      0.055556   \n",
       "10436                                      ['sculpture']      0.050000   \n",
       "10437  ['close', 'statue', 'husband', 'tomb', 'family...      0.138889   \n",
       "\n",
       "       term_density_gen  \n",
       "43             0.166667  \n",
       "44             0.136986  \n",
       "45             0.200000  \n",
       "46             0.111111  \n",
       "47             0.047619  \n",
       "...                 ...  \n",
       "10433          0.090909  \n",
       "10434          0.132075  \n",
       "10435          0.055556  \n",
       "10436          0.050000  \n",
       "10437          0.194444  \n",
       "\n",
       "[5066 rows x 15 columns]"
      ]
     },
     "metadata": {},
     "output_type": "display_data"
    }
   ],
   "source": [
    "refann_df = pd.read_csv('data/ref_data_union.csv', index_col=0)\n",
    "display(refann_df)"
   ]
  },
  {
   "cell_type": "code",
   "execution_count": 5,
   "metadata": {},
   "outputs": [],
   "source": [
    "pic_df = pd.read_csv('data/image_data.csv')"
   ]
  },
  {
   "cell_type": "code",
   "execution_count": 6,
   "metadata": {},
   "outputs": [
    {
     "data": {
      "text/html": [
       "<div>\n",
       "<style scoped>\n",
       "    .dataframe tbody tr th:only-of-type {\n",
       "        vertical-align: middle;\n",
       "    }\n",
       "\n",
       "    .dataframe tbody tr th {\n",
       "        vertical-align: top;\n",
       "    }\n",
       "\n",
       "    .dataframe thead th {\n",
       "        text-align: right;\n",
       "    }\n",
       "</style>\n",
       "<table border=\"1\" class=\"dataframe\">\n",
       "  <thead>\n",
       "    <tr style=\"text-align: right;\">\n",
       "      <th></th>\n",
       "      <th>Unnamed: 0</th>\n",
       "      <th>article</th>\n",
       "      <th>wiki_url</th>\n",
       "      <th>caption</th>\n",
       "      <th>filename</th>\n",
       "    </tr>\n",
       "  </thead>\n",
       "  <tbody>\n",
       "    <tr>\n",
       "      <th>0</th>\n",
       "      <td>3</td>\n",
       "      <td>Exeter Cathedral</td>\n",
       "      <td>https://upload.wikimedia.org/wikipedia/commons...</td>\n",
       "      <td>The cathedral in 1830</td>\n",
       "      <td>Exeter_Cathedral_NW_view_W_Deeble_after_R_Brow...</td>\n",
       "    </tr>\n",
       "    <tr>\n",
       "      <th>1</th>\n",
       "      <td>4</td>\n",
       "      <td>Exeter Cathedral</td>\n",
       "      <td>https://upload.wikimedia.org/wikipedia/commons...</td>\n",
       "      <td>Inside the cathedral, showing the vaulted ceil...</td>\n",
       "      <td>Inside_Exeter_Cathedral.jpg</td>\n",
       "    </tr>\n",
       "    <tr>\n",
       "      <th>2</th>\n",
       "      <td>5</td>\n",
       "      <td>Exeter Cathedral</td>\n",
       "      <td>https://upload.wikimedia.org/wikipedia/commons...</td>\n",
       "      <td>Detail of the vaulted ceiling</td>\n",
       "      <td>Exeter_Cathedral_nave_vaulted_ceiling.jpg</td>\n",
       "    </tr>\n",
       "    <tr>\n",
       "      <th>3</th>\n",
       "      <td>6</td>\n",
       "      <td>Exeter Cathedral</td>\n",
       "      <td>https://upload.wikimedia.org/wikipedia/commons...</td>\n",
       "      <td>One of the misericords, depicting a pipe and t...</td>\n",
       "      <td>Misericordtaborer.png</td>\n",
       "    </tr>\n",
       "    <tr>\n",
       "      <th>4</th>\n",
       "      <td>7</td>\n",
       "      <td>Exeter Cathedral</td>\n",
       "      <td>https://upload.wikimedia.org/wikipedia/commons...</td>\n",
       "      <td>The Minstrels' Gallery</td>\n",
       "      <td>Exeter_Cathedral_Minstrels'_Gallery.jpg</td>\n",
       "    </tr>\n",
       "    <tr>\n",
       "      <th>...</th>\n",
       "      <td>...</td>\n",
       "      <td>...</td>\n",
       "      <td>...</td>\n",
       "      <td>...</td>\n",
       "      <td>...</td>\n",
       "    </tr>\n",
       "    <tr>\n",
       "      <th>1002</th>\n",
       "      <td>1930</td>\n",
       "      <td>Church of Our Lady, Bruges</td>\n",
       "      <td>https://upload.wikimedia.org/wikipedia/commons...</td>\n",
       "      <td>Madonna by Michelangelo, 1501-1504</td>\n",
       "      <td>Michelangelo's_Madonna_and_Child_in_Brugge.jpg</td>\n",
       "    </tr>\n",
       "    <tr>\n",
       "      <th>1003</th>\n",
       "      <td>1931</td>\n",
       "      <td>Church of Our Lady, Bruges</td>\n",
       "      <td>https://upload.wikimedia.org/wikipedia/commons...</td>\n",
       "      <td>Madonna by Michelangelo</td>\n",
       "      <td>Michelangelos_Madonna_OLV-Kerk_Brugge.jpg</td>\n",
       "    </tr>\n",
       "    <tr>\n",
       "      <th>1004</th>\n",
       "      <td>1932</td>\n",
       "      <td>Church of Our Lady, Bruges</td>\n",
       "      <td>https://upload.wikimedia.org/wikipedia/commons...</td>\n",
       "      <td>Crucifixion by Anthony van Dyck, 1626</td>\n",
       "      <td>Antoon_van_Dijck.Kruisiging.JPG</td>\n",
       "    </tr>\n",
       "    <tr>\n",
       "      <th>1005</th>\n",
       "      <td>1933</td>\n",
       "      <td>Church of Our Lady, Bruges</td>\n",
       "      <td>https://upload.wikimedia.org/wikipedia/commons...</td>\n",
       "      <td>Supper at Emmaüs, formerly ascribed to Caravaggio</td>\n",
       "      <td>Caravaggio_Liebfrauenkirche_Abendmahl_in_Emmau...</td>\n",
       "    </tr>\n",
       "    <tr>\n",
       "      <th>1006</th>\n",
       "      <td>1934</td>\n",
       "      <td>Church of Our Lady, Bruges</td>\n",
       "      <td>https://upload.wikimedia.org/wikipedia/commons...</td>\n",
       "      <td>Deposition of the Cross; anonymous</td>\n",
       "      <td>Afname_van_het_kruis.JPG</td>\n",
       "    </tr>\n",
       "  </tbody>\n",
       "</table>\n",
       "<p>1007 rows × 5 columns</p>\n",
       "</div>"
      ],
      "text/plain": [
       "      Unnamed: 0                     article  \\\n",
       "0              3            Exeter Cathedral   \n",
       "1              4            Exeter Cathedral   \n",
       "2              5            Exeter Cathedral   \n",
       "3              6            Exeter Cathedral   \n",
       "4              7            Exeter Cathedral   \n",
       "...          ...                         ...   \n",
       "1002        1930  Church of Our Lady, Bruges   \n",
       "1003        1931  Church of Our Lady, Bruges   \n",
       "1004        1932  Church of Our Lady, Bruges   \n",
       "1005        1933  Church of Our Lady, Bruges   \n",
       "1006        1934  Church of Our Lady, Bruges   \n",
       "\n",
       "                                               wiki_url  \\\n",
       "0     https://upload.wikimedia.org/wikipedia/commons...   \n",
       "1     https://upload.wikimedia.org/wikipedia/commons...   \n",
       "2     https://upload.wikimedia.org/wikipedia/commons...   \n",
       "3     https://upload.wikimedia.org/wikipedia/commons...   \n",
       "4     https://upload.wikimedia.org/wikipedia/commons...   \n",
       "...                                                 ...   \n",
       "1002  https://upload.wikimedia.org/wikipedia/commons...   \n",
       "1003  https://upload.wikimedia.org/wikipedia/commons...   \n",
       "1004  https://upload.wikimedia.org/wikipedia/commons...   \n",
       "1005  https://upload.wikimedia.org/wikipedia/commons...   \n",
       "1006  https://upload.wikimedia.org/wikipedia/commons...   \n",
       "\n",
       "                                                caption  \\\n",
       "0                                 The cathedral in 1830   \n",
       "1     Inside the cathedral, showing the vaulted ceil...   \n",
       "2                         Detail of the vaulted ceiling   \n",
       "3     One of the misericords, depicting a pipe and t...   \n",
       "4                                The Minstrels' Gallery   \n",
       "...                                                 ...   \n",
       "1002                 Madonna by Michelangelo, 1501-1504   \n",
       "1003                            Madonna by Michelangelo   \n",
       "1004              Crucifixion by Anthony van Dyck, 1626   \n",
       "1005  Supper at Emmaüs, formerly ascribed to Caravaggio   \n",
       "1006                 Deposition of the Cross; anonymous   \n",
       "\n",
       "                                               filename  \n",
       "0     Exeter_Cathedral_NW_view_W_Deeble_after_R_Brow...  \n",
       "1                           Inside_Exeter_Cathedral.jpg  \n",
       "2             Exeter_Cathedral_nave_vaulted_ceiling.jpg  \n",
       "3                                 Misericordtaborer.png  \n",
       "4               Exeter_Cathedral_Minstrels'_Gallery.jpg  \n",
       "...                                                 ...  \n",
       "1002     Michelangelo's_Madonna_and_Child_in_Brugge.jpg  \n",
       "1003          Michelangelos_Madonna_OLV-Kerk_Brugge.jpg  \n",
       "1004                    Antoon_van_Dijck.Kruisiging.JPG  \n",
       "1005  Caravaggio_Liebfrauenkirche_Abendmahl_in_Emmau...  \n",
       "1006                           Afname_van_het_kruis.JPG  \n",
       "\n",
       "[1007 rows x 5 columns]"
      ]
     },
     "metadata": {},
     "output_type": "display_data"
    }
   ],
   "source": [
    "display(pic_df)"
   ]
  },
  {
   "cell_type": "code",
   "execution_count": 29,
   "metadata": {},
   "outputs": [],
   "source": [
    "paths = [p for p in list(pic_df[\"filename\"]) if p in os.listdir(\"medium_images\")]"
   ]
  },
  {
   "cell_type": "code",
   "execution_count": 8,
   "metadata": {},
   "outputs": [
    {
     "data": {
      "text/plain": [
       "994"
      ]
     },
     "execution_count": 8,
     "metadata": {},
     "output_type": "execute_result"
    }
   ],
   "source": [
    "len(paths)"
   ]
  },
  {
   "cell_type": "code",
   "execution_count": 22,
   "metadata": {},
   "outputs": [
    {
     "name": "stderr",
     "output_type": "stream",
     "text": [
      "  2%|█▋                                                                               | 20/994 [00:00<00:10, 96.72it/s]"
     ]
    },
    {
     "name": "stdout",
     "output_type": "stream",
     "text": [
      "Start extracting resnet features...\n"
     ]
    },
    {
     "name": "stderr",
     "output_type": "stream",
     "text": [
      "100%|████████████████████████████████████████████████████████████████████████████████| 994/994 [00:36<00:00, 27.51it/s]"
     ]
    },
    {
     "name": "stdout",
     "output_type": "stream",
     "text": [
      "\tSave features to data/medium_images.hdf5 with hdf5 dataset 'features'.\n"
     ]
    },
    {
     "name": "stderr",
     "output_type": "stream",
     "text": [
      "\n"
     ]
    }
   ],
   "source": [
    "extractor = ResnetFeatureExtractor(\"medium_images\", \"data/\", 32)\n",
    "extractor.extract_vision_features(dataname=\"medium_images\", img_ids=paths)"
   ]
  },
  {
   "cell_type": "markdown",
   "metadata": {},
   "source": [
    "## Sentences "
   ]
  },
  {
   "cell_type": "code",
   "execution_count": 37,
   "metadata": {},
   "outputs": [],
   "source": [
    "from transformers import AutoModel, AutoTokenizer\n",
    "import torch\n",
    "from torch.utils.data.dataloader import DataLoader\n",
    "import numpy as np\n",
    "import tqdm\n",
    "import h5py"
   ]
  },
  {
   "cell_type": "code",
   "execution_count": 10,
   "metadata": {},
   "outputs": [],
   "source": [
    "model_path = \"result/mix_flickr/0/mcse\""
   ]
  },
  {
   "cell_type": "code",
   "execution_count": 11,
   "metadata": {},
   "outputs": [],
   "source": [
    "model = AutoModel.from_pretrained(model_path)\n",
    "tokenizer = AutoTokenizer.from_pretrained(model_path)\n",
    "device = torch.device(\"cuda:0\")\n",
    "model = model.to(device)"
   ]
  },
  {
   "cell_type": "code",
   "execution_count": 12,
   "metadata": {},
   "outputs": [],
   "source": [
    "sentences = list(refann_df[\"sentence\"])"
   ]
  },
  {
   "cell_type": "code",
   "execution_count": 33,
   "metadata": {},
   "outputs": [],
   "source": [
    "def extract_sent_features(sents, model, batch_size, cls=False):\n",
    "    tensor_sents = []\n",
    "    sent_feats = []\n",
    "    for i, sent in enumerate(tqdm.tqdm(sents)):\n",
    "        tensor_sents.append(sent)\n",
    "        if len(tensor_sents) == batch_size:\n",
    "            tensor_sents = tokenizer.batch_encode_plus(tensor_sents,return_tensors='pt',padding=True,max_length=32,\n",
    "                                                       truncation=True)\n",
    "            for k in tensor_sents:\n",
    "                tensor_sents[k] = tensor_sents[k].to(device)\n",
    "            #sent_input = torch.stack(tensor_sents).cuda()\n",
    "            #sent_input = torch.squeeze(sent_input)\n",
    "            with torch.no_grad():\n",
    "                sent_output = model(**tensor_sents)\n",
    "            sent_feats.extend(sent_output.last_hidden_state.detach().cpu().numpy())\n",
    "            tensor_sents = []\n",
    "    if len(tensor_sents) > 0: \n",
    "        tensor_sents = tokenizer.batch_encode_plus(tensor_sents,return_tensors='pt',padding=True,max_length=32,\n",
    "                                                   truncation=True)\n",
    "        for k in tensor_sents:\n",
    "            tensor_sents[k] = tensor_sents[k].to(device)\n",
    "        #sent_input = torch.stack(tensor_sents).cuda()\n",
    "        #sent_input = torch.squeeze(sent_input)\n",
    "        with torch.no_grad():\n",
    "            sent_output = model(**tensor_sents)\n",
    "        sent_feats.extend(sent_output.last_hidden_state.detach().cpu().numpy())\n",
    "        sent_feats = np.stack(sent_feats)\n",
    "        if cls: \n",
    "            sent_feats = sent_feats[:, 0]\n",
    "    return(sent_feats)\n",
    "\n",
    "                \n",
    "    "
   ]
  },
  {
   "cell_type": "code",
   "execution_count": 34,
   "metadata": {},
   "outputs": [],
   "source": [
    "def save_to_hdf5(feats, output_file):\n",
    "    h5f = h5py.File(output_file, 'w')\n",
    "    dset = h5f.create_dataset(\"features\", data=feats)\n",
    "    h5f.close()\n",
    "    print(\"features saved to \" + output_file)"
   ]
  },
  {
   "cell_type": "code",
   "execution_count": 35,
   "metadata": {},
   "outputs": [
    {
     "name": "stderr",
     "output_type": "stream",
     "text": [
      "100%|█████████████████████████████████████████████████████████████████████████████| 5066/5066 [00:50<00:00, 100.29it/s]\n"
     ]
    }
   ],
   "source": [
    "#sent_feats = extract_sent_features(sentences, model, 32)\n",
    "cls_feats = extract_sent_features(sentences, model, 32, cls=True)"
   ]
  },
  {
   "cell_type": "code",
   "execution_count": 38,
   "metadata": {},
   "outputs": [
    {
     "name": "stdout",
     "output_type": "stream",
     "text": [
      "features saved to data/cls_feats.hdf5\n"
     ]
    }
   ],
   "source": [
    "save_to_hdf5(cls_feats, \"data/cls_feats.hdf5\")"
   ]
  },
  {
   "cell_type": "code",
   "execution_count": 39,
   "metadata": {},
   "outputs": [],
   "source": [
    "### opening the .hdf5 files"
   ]
  },
  {
   "cell_type": "code",
   "execution_count": 48,
   "metadata": {},
   "outputs": [
    {
     "data": {
      "text/plain": [
       "(5066, 32, 768)"
      ]
     },
     "execution_count": 48,
     "metadata": {},
     "output_type": "execute_result"
    }
   ],
   "source": [
    "hf = h5py.File('data/sent_feats.hdf5', 'r')\n",
    "#data = hf.get('features').value\n",
    "data = np.array(hf[\"features\"][:])\n",
    "\n",
    "data.shape"
   ]
  },
  {
   "cell_type": "code",
   "execution_count": 40,
   "metadata": {},
   "outputs": [
    {
     "data": {
      "text/plain": [
       "(5066, 768)"
      ]
     },
     "execution_count": 40,
     "metadata": {},
     "output_type": "execute_result"
    }
   ],
   "source": [
    "cls_feats.shape"
   ]
  },
  {
   "cell_type": "markdown",
   "metadata": {},
   "source": [
    "## Sonstiges"
   ]
  },
  {
   "cell_type": "code",
   "execution_count": 17,
   "metadata": {},
   "outputs": [],
   "source": [
    "from PIL import Image\n",
    "\n",
    "for p in listdir(\"medium_images\"):\n",
    "    if p.endswith(\".png\"):\n",
    "        fp = \"medium_images/\" + p\n",
    "        im = Image.open(fp)\n",
    "        rgb_im = im.convert('RGB')\n",
    "        rgb_im.save(os.path.splitext(fp)[0] + \".jpg\")"
   ]
  },
  {
   "cell_type": "code",
   "execution_count": 15,
   "metadata": {},
   "outputs": [],
   "source": [
    "import os\n",
    "\n",
    "conts = [p.lower() for p in os.listdir(\"medium_images\")]\n",
    "missing = []\n",
    "for p in paths: \n",
    "    if not p.lower() in conts:\n",
    "        missing.append(p)"
   ]
  },
  {
   "cell_type": "code",
   "execution_count": 16,
   "metadata": {},
   "outputs": [
    {
     "name": "stdout",
     "output_type": "stream",
     "text": [
      "13\n"
     ]
    }
   ],
   "source": [
    "print(len(missing))"
   ]
  }
 ],
 "metadata": {
  "kernelspec": {
   "display_name": "mcse",
   "language": "python",
   "name": "mcse"
  },
  "language_info": {
   "codemirror_mode": {
    "name": "ipython",
    "version": 3
   },
   "file_extension": ".py",
   "mimetype": "text/x-python",
   "name": "python",
   "nbconvert_exporter": "python",
   "pygments_lexer": "ipython3",
   "version": "3.9.5"
  }
 },
 "nbformat": 4,
 "nbformat_minor": 4
}
